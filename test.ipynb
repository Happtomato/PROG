{
 "cells": [
  {
   "metadata": {
    "ExecuteTime": {
     "end_time": "2025-02-18T11:37:09.457009Z",
     "start_time": "2025-02-18T11:37:09.451779Z"
    }
   },
   "cell_type": "code",
   "source": "import sys; sys.version",
   "id": "cb024f64268de876",
   "outputs": [
    {
     "data": {
      "text/plain": [
       "'3.10.6 (main, Feb 15 2025, 13:05:57) [Clang 16.0.0 (clang-1600.0.26.6)]'"
      ]
     },
     "execution_count": 1,
     "metadata": {},
     "output_type": "execute_result"
    }
   ],
   "execution_count": 1
  }
 ],
 "metadata": {
  "kernelspec": {
   "display_name": "Python 3",
   "language": "python",
   "name": "python3"
  },
  "language_info": {
   "codemirror_mode": {
    "name": "ipython",
    "version": 2
   },
   "file_extension": ".py",
   "mimetype": "text/x-python",
   "name": "python",
   "nbconvert_exporter": "python",
   "pygments_lexer": "ipython2",
   "version": "2.7.6"
  }
 },
 "nbformat": 4,
 "nbformat_minor": 5
}
